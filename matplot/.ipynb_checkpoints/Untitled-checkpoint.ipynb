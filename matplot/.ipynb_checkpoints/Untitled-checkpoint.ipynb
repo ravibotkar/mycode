{
 "cells": [
  {
   "cell_type": "code",
   "execution_count": 6,
   "id": "b1b9a37a-e7a1-4f5a-982d-b3c1a063d23c",
   "metadata": {},
   "outputs": [
    {
     "ename": "SyntaxError",
     "evalue": "unmatched ')' (2681096960.py, line 25)",
     "output_type": "error",
     "traceback": [
      "\u001b[0;36m  Cell \u001b[0;32mIn [6], line 25\u001b[0;36m\u001b[0m\n\u001b[0;31m    )\u001b[0m\n\u001b[0m    ^\u001b[0m\n\u001b[0;31mSyntaxError\u001b[0m\u001b[0;31m:\u001b[0m unmatched ')'\n"
     ]
    }
   ],
   "source": [
    "#!/usr/bin/python3\n",
    "\"\"\"Alta3 Research | treich@alta3.com\n",
    "Creating a histogram plot using Matplotlib and Numpy\"\"\"\n",
    "\n",
    "import numpy as np\n",
    "import matplotlib\n",
    "import matplotlib.pyplot as plt\n",
    "matplotlib.use('Agg') # used to render graphs to files\n",
    "\n",
    "def main():\n",
    "  # Generate a numpy array to represent normally distributed test grades for 100 students\n",
    "  grades = np.random.normal(75, 10, 100)\n",
    "\n",
    "  # Create a histogram using bins from 0-100 spaced 10 apart\n",
    "  plt.hist(grades,\n",
    "           bins=np.arange(0, 101, 10),  # defines bin edges, including left and right edge\n",
    "           linewidth=0.5,               \n",
    "           edgecolor=\"white\")\n",
    "\n",
    "  # Customize plot with labels and axis ticks that align with the bins\n",
    "  plt.title(\"Test Grades Distribution for 100 Students\")\n",
    "  plt.xticks(np.arange(0,101,10))\n",
    "  plt.xlabel(\"Test Score\")\n",
    "  plt.ylabel(\"Number of Students\")\n",
    "  \n",
    "  # Save the graph locally and to the static folder\n",
    "  plt.savefig(\"/home/student/mycode/matplot/grades_hist.png\")\n",
    "  plt.savefig(\"/home/student/static/grades_hist.png\")\n",
    "  \n",
    "  \n",
    "if __name__ == \"__main__\":\n",
    "   main()\n"
   ]
  },
  {
   "cell_type": "code",
   "execution_count": null,
   "id": "b0bf88a2-196e-40ca-9c76-def3e48f9e3c",
   "metadata": {},
   "outputs": [],
   "source": []
  }
 ],
 "metadata": {
  "kernelspec": {
   "display_name": "Python 3 (ipykernel)",
   "language": "python",
   "name": "python3"
  },
  "language_info": {
   "codemirror_mode": {
    "name": "ipython",
    "version": 3
   },
   "file_extension": ".py",
   "mimetype": "text/x-python",
   "name": "python",
   "nbconvert_exporter": "python",
   "pygments_lexer": "ipython3",
   "version": "3.10.6"
  }
 },
 "nbformat": 4,
 "nbformat_minor": 5
}
