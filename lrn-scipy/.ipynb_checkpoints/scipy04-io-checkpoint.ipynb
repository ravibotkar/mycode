{
 "cells": [
  {
   "cell_type": "code",
   "execution_count": 2,
   "id": "04fab6e9-9e3b-4d2c-a900-035fb705141e",
   "metadata": {},
   "outputs": [
    {
     "data": {
      "text/plain": [
       "array([[1., 1., 1., 1.],\n",
       "       [1., 1., 1., 1.],\n",
       "       [1., 1., 1., 1.],\n",
       "       [1., 1., 1., 1.]])"
      ]
     },
     "execution_count": 2,
     "metadata": {},
     "output_type": "execute_result"
    }
   ],
   "source": [
    "# python3 -m pip install numpy\n",
    "import numpy as np\n",
    "\n",
    "# python3 -m pip install scipy\n",
    "#from scipy import io as sio\n",
    "import scipy\n",
    "\n",
    "# create a 4x4 dimensional one's array\n",
    "array = np.ones((4, 4))\n",
    "\n",
    "# store array in a file named \"example.mat\"\n",
    "scipy.io.savemat('example.mat', {'ar': array}) \n",
    "\n",
    "# get the data out of \"example.mat\" and load into \"data\"\n",
    "data = scipy.io.loadmat('example.mat', struct_as_record=True)\n",
    "\n",
    "# display \"data\" on the screen\n",
    "data['ar']\n"
   ]
  },
  {
   "cell_type": "code",
   "execution_count": null,
   "id": "7f1c6bd4-66ee-4cf4-a39c-fdb5c0087e34",
   "metadata": {},
   "outputs": [],
   "source": []
  }
 ],
 "metadata": {
  "kernelspec": {
   "display_name": "Python 3 (ipykernel)",
   "language": "python",
   "name": "python3"
  },
  "language_info": {
   "codemirror_mode": {
    "name": "ipython",
    "version": 3
   },
   "file_extension": ".py",
   "mimetype": "text/x-python",
   "name": "python",
   "nbconvert_exporter": "python",
   "pygments_lexer": "ipython3",
   "version": "3.10.6"
  }
 },
 "nbformat": 4,
 "nbformat_minor": 5
}
