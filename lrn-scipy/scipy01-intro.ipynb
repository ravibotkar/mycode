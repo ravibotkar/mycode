{
 "cells": [
  {
   "cell_type": "code",
   "execution_count": 1,
   "id": "9f9c1016-7853-4c1e-bd52-c2cf06ae1467",
   "metadata": {},
   "outputs": [
    {
     "data": {
      "text/plain": [
       "'1.9.3'"
      ]
     },
     "execution_count": 1,
     "metadata": {},
     "output_type": "execute_result"
    }
   ],
   "source": [
    "import scipy\n",
    "import scipy.constants\n",
    "scipy.__version__\n"
   ]
  },
  {
   "cell_type": "code",
   "execution_count": 2,
   "id": "5af8da08-7235-4b53-9a22-f05a4b3af94a",
   "metadata": {},
   "outputs": [
    {
     "data": {
      "text/plain": [
       "3.141592653589793"
      ]
     },
     "execution_count": 2,
     "metadata": {},
     "output_type": "execute_result"
    }
   ],
   "source": [
    "# from the constants package\n",
    "scipy.constants.pi\n"
   ]
  },
  {
   "cell_type": "code",
   "execution_count": 3,
   "id": "8e2abffd-c5d6-4dd3-8661-be55204dfc56",
   "metadata": {},
   "outputs": [
    {
     "data": {
      "text/plain": [
       "['Avogadro',\n",
       " 'Boltzmann',\n",
       " 'Btu',\n",
       " 'Btu_IT',\n",
       " 'Btu_th',\n",
       " 'ConstantWarning',\n",
       " 'G',\n",
       " 'Julian_year',\n",
       " 'N_A',\n",
       " 'Planck',\n",
       " 'R',\n",
       " 'Rydberg',\n",
       " 'Stefan_Boltzmann',\n",
       " 'Wien',\n",
       " '__all__',\n",
       " '__builtins__',\n",
       " '__cached__',\n",
       " '__doc__',\n",
       " '__file__',\n",
       " '__loader__',\n",
       " '__name__',\n",
       " '__package__',\n",
       " '__path__',\n",
       " '__spec__',\n",
       " '_codata',\n",
       " '_constants',\n",
       " '_obsolete_constants',\n",
       " 'acre',\n",
       " 'alpha',\n",
       " 'angstrom',\n",
       " 'arcmin',\n",
       " 'arcminute',\n",
       " 'arcsec',\n",
       " 'arcsecond',\n",
       " 'astronomical_unit',\n",
       " 'atm',\n",
       " 'atmosphere',\n",
       " 'atomic_mass',\n",
       " 'atto',\n",
       " 'au',\n",
       " 'bar',\n",
       " 'barrel',\n",
       " 'bbl',\n",
       " 'blob',\n",
       " 'c',\n",
       " 'calorie',\n",
       " 'calorie_IT',\n",
       " 'calorie_th',\n",
       " 'carat',\n",
       " 'centi',\n",
       " 'codata',\n",
       " 'constants',\n",
       " 'convert_temperature',\n",
       " 'day',\n",
       " 'deci',\n",
       " 'degree',\n",
       " 'degree_Fahrenheit',\n",
       " 'deka',\n",
       " 'dyn',\n",
       " 'dyne',\n",
       " 'e',\n",
       " 'eV',\n",
       " 'electron_mass',\n",
       " 'electron_volt',\n",
       " 'elementary_charge',\n",
       " 'epsilon_0',\n",
       " 'erg',\n",
       " 'exa',\n",
       " 'exbi',\n",
       " 'femto',\n",
       " 'fermi',\n",
       " 'find',\n",
       " 'fine_structure',\n",
       " 'fluid_ounce',\n",
       " 'fluid_ounce_US',\n",
       " 'fluid_ounce_imp',\n",
       " 'foot',\n",
       " 'g',\n",
       " 'gallon',\n",
       " 'gallon_US',\n",
       " 'gallon_imp',\n",
       " 'gas_constant',\n",
       " 'gibi',\n",
       " 'giga',\n",
       " 'golden',\n",
       " 'golden_ratio',\n",
       " 'grain',\n",
       " 'gram',\n",
       " 'gravitational_constant',\n",
       " 'h',\n",
       " 'hbar',\n",
       " 'hectare',\n",
       " 'hecto',\n",
       " 'horsepower',\n",
       " 'hour',\n",
       " 'hp',\n",
       " 'inch',\n",
       " 'k',\n",
       " 'kgf',\n",
       " 'kibi',\n",
       " 'kilo',\n",
       " 'kilogram_force',\n",
       " 'kmh',\n",
       " 'knot',\n",
       " 'lambda2nu',\n",
       " 'lb',\n",
       " 'lbf',\n",
       " 'light_year',\n",
       " 'liter',\n",
       " 'litre',\n",
       " 'long_ton',\n",
       " 'm_e',\n",
       " 'm_n',\n",
       " 'm_p',\n",
       " 'm_u',\n",
       " 'mach',\n",
       " 'mebi',\n",
       " 'mega',\n",
       " 'metric_ton',\n",
       " 'micro',\n",
       " 'micron',\n",
       " 'mil',\n",
       " 'mile',\n",
       " 'milli',\n",
       " 'minute',\n",
       " 'mmHg',\n",
       " 'mph',\n",
       " 'mu_0',\n",
       " 'nano',\n",
       " 'nautical_mile',\n",
       " 'neutron_mass',\n",
       " 'nu2lambda',\n",
       " 'ounce',\n",
       " 'oz',\n",
       " 'parsec',\n",
       " 'pebi',\n",
       " 'peta',\n",
       " 'physical_constants',\n",
       " 'pi',\n",
       " 'pico',\n",
       " 'point',\n",
       " 'pound',\n",
       " 'pound_force',\n",
       " 'precision',\n",
       " 'proton_mass',\n",
       " 'psi',\n",
       " 'pt',\n",
       " 'short_ton',\n",
       " 'sigma',\n",
       " 'slinch',\n",
       " 'slug',\n",
       " 'speed_of_light',\n",
       " 'speed_of_sound',\n",
       " 'stone',\n",
       " 'survey_foot',\n",
       " 'survey_mile',\n",
       " 'tebi',\n",
       " 'tera',\n",
       " 'test',\n",
       " 'ton_TNT',\n",
       " 'torr',\n",
       " 'troy_ounce',\n",
       " 'troy_pound',\n",
       " 'u',\n",
       " 'unit',\n",
       " 'value',\n",
       " 'week',\n",
       " 'yard',\n",
       " 'year',\n",
       " 'yobi',\n",
       " 'yocto',\n",
       " 'yotta',\n",
       " 'zebi',\n",
       " 'zepto',\n",
       " 'zero_Celsius',\n",
       " 'zetta']"
      ]
     },
     "execution_count": 3,
     "metadata": {},
     "output_type": "execute_result"
    }
   ],
   "source": [
    "dir(scipy.constants)\n"
   ]
  },
  {
   "cell_type": "code",
   "execution_count": 4,
   "id": "5221f50e-f195-4e5d-965f-c268b6df830c",
   "metadata": {},
   "outputs": [
    {
     "name": "stdout",
     "output_type": "stream",
     "text": [
      "1e+24\n",
      "1e+21\n",
      "1e+18\n",
      "1000000000000000.0\n",
      "1000000000000.0\n",
      "1000000000.0\n",
      "1000000.0\n",
      "1000.0\n",
      "100.0\n",
      "10.0\n",
      "0.1\n",
      "0.01\n",
      "0.001\n",
      "1e-06\n",
      "1e-09\n",
      "1e-12\n",
      "1e-15\n",
      "1e-18\n",
      "1e-21\n"
     ]
    }
   ],
   "source": [
    "print(scipy.constants.yotta)    #1e+24\n",
    "print(scipy.constants.zetta)    #1e+21\n",
    "print(scipy.constants.exa)      #1e+18\n",
    "print(scipy.constants.peta)     #1000000000000000.0\n",
    "print(scipy.constants.tera)     #1000000000000.0\n",
    "print(scipy.constants.giga)     #1000000000.0\n",
    "print(scipy.constants.mega)     #1000000.0\n",
    "print(scipy.constants.kilo)     #1000.0\n",
    "print(scipy.constants.hecto)    #100.0\n",
    "print(scipy.constants.deka)     #10.0\n",
    "print(scipy.constants.deci)     #0.1\n",
    "print(scipy.constants.centi)    #0.01\n",
    "print(scipy.constants.milli)    #0.001\n",
    "print(scipy.constants.micro)    #1e-06\n",
    "print(scipy.constants.nano)     #1e-09\n",
    "print(scipy.constants.pico)     #1e-12\n",
    "print(scipy.constants.femto)    #1e-15\n",
    "print(scipy.constants.atto)     #1e-18\n",
    "print(scipy.constants.zepto)    #1e-21\n"
   ]
  },
  {
   "cell_type": "code",
   "execution_count": 5,
   "id": "8f241a6c-5b1f-46fd-a1c6-553337fad2a4",
   "metadata": {},
   "outputs": [
    {
     "name": "stdout",
     "output_type": "stream",
     "text": [
      "1024\n",
      "1048576\n",
      "1073741824\n",
      "1099511627776\n",
      "1125899906842624\n",
      "1152921504606846976\n",
      "1180591620717411303424\n",
      "1208925819614629174706176\n"
     ]
    }
   ],
   "source": [
    "print(scipy.constants.kibi)    #1024\n",
    "print(scipy.constants.mebi)    #1048576\n",
    "print(scipy.constants.gibi)    #1073741824\n",
    "print(scipy.constants.tebi)    #1099511627776\n",
    "print(scipy.constants.pebi)    #1125899906842624\n",
    "print(scipy.constants.exbi)    #1152921504606846976\n",
    "print(scipy.constants.zebi)    #1180591620717411303424\n",
    "print(scipy.constants.yobi)    #1208925819614629174706176\n"
   ]
  },
  {
   "cell_type": "code",
   "execution_count": 6,
   "id": "a6dbe9f0-a0de-47b1-96a8-d91387b78d19",
   "metadata": {},
   "outputs": [
    {
     "name": "stdout",
     "output_type": "stream",
     "text": [
      "0.001\n",
      "1000.0\n",
      "6.479891e-05\n",
      "0.45359236999999997\n",
      "0.45359236999999997\n",
      "0.028349523124999998\n",
      "0.028349523124999998\n",
      "6.3502931799999995\n",
      "1016.0469088\n",
      "907.1847399999999\n",
      "0.031103476799999998\n",
      "0.37324172159999996\n",
      "0.0002\n",
      "1.6605390666e-27\n",
      "1.6605390666e-27\n",
      "1.6605390666e-27\n"
     ]
    }
   ],
   "source": [
    "print(scipy.constants.gram)        #0.001\n",
    "print(scipy.constants.metric_ton)  #1000.0\n",
    "print(scipy.constants.grain)       #6.479891e-05\n",
    "print(scipy.constants.lb)          #0.45359236999999997\n",
    "print(scipy.constants.pound)       #0.45359236999999997\n",
    "print(scipy.constants.oz)          #0.028349523124999998\n",
    "print(scipy.constants.ounce)       #0.028349523124999998\n",
    "print(scipy.constants.stone)       #6.3502931799999995\n",
    "print(scipy.constants.long_ton)    #1016.0469088\n",
    "print(scipy.constants.short_ton)   #907.1847399999999\n",
    "print(scipy.constants.troy_ounce)  #0.031103476799999998\n",
    "print(scipy.constants.troy_pound)  #0.37324172159999996\n",
    "print(scipy.constants.carat)       #0.0002\n",
    "print(scipy.constants.atomic_mass) #1.66053904e-27\n",
    "print(scipy.constants.m_u)         #1.66053904e-27\n",
    "print(scipy.constants.u)           #1.66053904e-27\n"
   ]
  },
  {
   "cell_type": "code",
   "execution_count": 7,
   "id": "afe2b1b1-1367-4355-a7be-8ac4fac5b408",
   "metadata": {},
   "outputs": [
    {
     "name": "stdout",
     "output_type": "stream",
     "text": [
      "0.017453292519943295\n",
      "0.0002908882086657216\n",
      "0.0002908882086657216\n",
      "4.84813681109536e-06\n",
      "4.84813681109536e-06\n"
     ]
    }
   ],
   "source": [
    "print(scipy.constants.degree)     #0.017453292519943295\n",
    "print(scipy.constants.arcmin)     #0.0002908882086657216\n",
    "print(scipy.constants.arcminute)  #0.0002908882086657216\n",
    "print(scipy.constants.arcsec)     #4.84813681109536e-06\n",
    "print(scipy.constants.arcsecond)  #4.84813681109536e-06\n"
   ]
  },
  {
   "cell_type": "code",
   "execution_count": 8,
   "id": "3c1b254f-361c-4844-8ae7-d010f7ec78e5",
   "metadata": {},
   "outputs": [
    {
     "name": "stdout",
     "output_type": "stream",
     "text": [
      "60.0\n",
      "3600.0\n",
      "86400.0\n",
      "604800.0\n",
      "31536000.0\n",
      "31557600.0\n"
     ]
    }
   ],
   "source": [
    "print(scipy.constants.minute)      #60.0\n",
    "print(scipy.constants.hour)        #3600.0\n",
    "print(scipy.constants.day)         #86400.0\n",
    "print(scipy.constants.week)        #604800.0\n",
    "print(scipy.constants.year)        #31536000.0\n",
    "print(scipy.constants.Julian_year) #31557600.0\n"
   ]
  },
  {
   "cell_type": "code",
   "execution_count": 9,
   "id": "92349a7d-5cc3-4ea8-ac2e-ee7f14e2fc56",
   "metadata": {},
   "outputs": [
    {
     "name": "stdout",
     "output_type": "stream",
     "text": [
      "0.0254\n",
      "0.30479999999999996\n",
      "0.9143999999999999\n",
      "1609.3439999999998\n",
      "2.5399999999999997e-05\n",
      "0.00035277777777777776\n",
      "0.00035277777777777776\n",
      "0.3048006096012192\n",
      "1609.3472186944373\n",
      "1852.0\n",
      "1e-15\n",
      "1e-10\n",
      "1e-06\n",
      "149597870700.0\n",
      "149597870700.0\n",
      "9460730472580800.0\n",
      "3.085677581491367e+16\n"
     ]
    }
   ],
   "source": [
    "print(scipy.constants.inch)              #0.0254\n",
    "print(scipy.constants.foot)              #0.30479999999999996\n",
    "print(scipy.constants.yard)              #0.9143999999999999\n",
    "print(scipy.constants.mile)              #1609.3439999999998\n",
    "print(scipy.constants.mil)               #2.5399999999999997e-05\n",
    "print(scipy.constants.pt)                #0.00035277777777777776\n",
    "print(scipy.constants.point)             #0.00035277777777777776\n",
    "print(scipy.constants.survey_foot)       #0.3048006096012192\n",
    "print(scipy.constants.survey_mile)       #1609.3472186944373\n",
    "print(scipy.constants.nautical_mile)     #1852.0\n",
    "print(scipy.constants.fermi)             #1e-15\n",
    "print(scipy.constants.angstrom)          #1e-10\n",
    "print(scipy.constants.micron)            #1e-06\n",
    "print(scipy.constants.au)                #149597870691.0\n",
    "print(scipy.constants.astronomical_unit) #149597870691.0\n",
    "print(scipy.constants.light_year)        #9460730472580800.0\n",
    "print(scipy.constants.parsec)            #3.0856775813057292e+16\n"
   ]
  },
  {
   "cell_type": "code",
   "execution_count": 10,
   "id": "47c2c656-0a77-4009-a39a-c9e7e1e541bc",
   "metadata": {},
   "outputs": [
    {
     "name": "stdout",
     "output_type": "stream",
     "text": [
      "10000.0\n",
      "4046.8564223999992\n"
     ]
    }
   ],
   "source": [
    "print(scipy.constants.hectare) #10000.0\n",
    "print(scipy.constants.acre)    #4046.8564223999992\n"
   ]
  },
  {
   "cell_type": "code",
   "execution_count": 11,
   "id": "0d0fdaf9-b9b2-41c0-9662-e4a2c4a8b4dc",
   "metadata": {},
   "outputs": [
    {
     "name": "stdout",
     "output_type": "stream",
     "text": [
      "10000.0\n",
      "4046.8564223999992\n"
     ]
    }
   ],
   "source": [
    "print(scipy.constants.hectare) #10000.0\n",
    "print(scipy.constants.acre)    #4046.8564223999992\n"
   ]
  },
  {
   "cell_type": "code",
   "execution_count": 12,
   "id": "528638be-ce35-4d95-88f6-4dc2c0f49c87",
   "metadata": {},
   "outputs": [
    {
     "name": "stdout",
     "output_type": "stream",
     "text": [
      "0.001\n",
      "0.001\n",
      "0.0037854117839999997\n",
      "0.0037854117839999997\n",
      "0.00454609\n",
      "2.9573529562499998e-05\n",
      "2.9573529562499998e-05\n",
      "2.84130625e-05\n",
      "0.15898729492799998\n",
      "0.15898729492799998\n"
     ]
    }
   ],
   "source": [
    "print(scipy.constants.liter)            #0.001\n",
    "print(scipy.constants.litre)            #0.001\n",
    "print(scipy.constants.gallon)           #0.0037854117839999997\n",
    "print(scipy.constants.gallon_US)        #0.0037854117839999997\n",
    "print(scipy.constants.gallon_imp)       #0.00454609\n",
    "print(scipy.constants.fluid_ounce)      #2.9573529562499998e-05\n",
    "print(scipy.constants.fluid_ounce_US)   #2.9573529562499998e-05\n",
    "print(scipy.constants.fluid_ounce_imp)  #2.84130625e-05\n",
    "print(scipy.constants.barrel)           #0.15898729492799998\n",
    "print(scipy.constants.bbl)              #0.15898729492799998\n"
   ]
  },
  {
   "cell_type": "code",
   "execution_count": 19,
   "id": "da83f224-6f6e-4b60-9fb1-064bcec85453",
   "metadata": {},
   "outputs": [
    {
     "name": "stdout",
     "output_type": "stream",
     "text": [
      "0.2777777777777778\n",
      "0.44703999999999994\n",
      "340.5\n",
      "340.5\n",
      "0.5144444444444445\n"
     ]
    }
   ],
   "source": [
    "print(scipy.constants.kmh)            #0.2777777777777778\n",
    "print(scipy.constants.mph)            #0.44703999999999994\n",
    "print(scipy.constants.mach)           #340.5\n",
    "print(scipy.constants.speed_of_sound) #340.5\n",
    "print(scipy.constants.knot)           #0.5144444444444445\n"
   ]
  },
  {
   "cell_type": "code",
   "execution_count": 20,
   "id": "a8506a7a-92ca-4912-932d-7086cf2cba37",
   "metadata": {},
   "outputs": [
    {
     "name": "stdout",
     "output_type": "stream",
     "text": [
      "273.15\n",
      "0.5555555555555556\n"
     ]
    }
   ],
   "source": [
    "print(scipy.constants.zero_Celsius)      #273.15\n",
    "print(scipy.constants.degree_Fahrenheit) #0.5555555555555556\n"
   ]
  },
  {
   "cell_type": "code",
   "execution_count": 15,
   "id": "9be091ca-1d73-4d50-8ec0-97f5c7367b63",
   "metadata": {},
   "outputs": [
    {
     "name": "stdout",
     "output_type": "stream",
     "text": [
      "1.602176634e-19\n",
      "1.602176634e-19\n",
      "4.184\n",
      "4.184\n",
      "4.1868\n",
      "1e-07\n",
      "1055.05585262\n",
      "1055.05585262\n",
      "1054.3502644888888\n",
      "4184000000.0\n"
     ]
    }
   ],
   "source": [
    "print(scipy.constants.eV)            #1.6021766208e-19\n",
    "print(scipy.constants.electron_volt) #1.6021766208e-19\n",
    "print(scipy.constants.calorie)       #4.184\n",
    "print(scipy.constants.calorie_th)    #4.184\n",
    "print(scipy.constants.calorie_IT)    #4.1868\n",
    "print(scipy.constants.erg)           #1e-07\n",
    "print(scipy.constants.Btu)           #1055.05585262\n",
    "print(scipy.constants.Btu_IT)        #1055.05585262\n",
    "print(scipy.constants.Btu_th)        #1054.3502644888888\n",
    "print(scipy.constants.ton_TNT)       #4184000000.0\n"
   ]
  },
  {
   "cell_type": "code",
   "execution_count": 21,
   "id": "4ac15a43-57a7-42fd-9ed4-35ad2bb934b4",
   "metadata": {},
   "outputs": [
    {
     "ename": "NameError",
     "evalue": "name 'constants' is not defined",
     "output_type": "error",
     "traceback": [
      "\u001b[0;31m---------------------------------------------------------------------------\u001b[0m",
      "\u001b[0;31mNameError\u001b[0m                                 Traceback (most recent call last)",
      "Cell \u001b[0;32mIn [21], line 1\u001b[0m\n\u001b[0;32m----> 1\u001b[0m \u001b[38;5;28mprint\u001b[39m(\u001b[43mconstants\u001b[49m\u001b[38;5;241m.\u001b[39mhp)         \u001b[38;5;66;03m#745.6998715822701\u001b[39;00m\n\u001b[1;32m      2\u001b[0m \u001b[38;5;28mprint\u001b[39m(constants\u001b[38;5;241m.\u001b[39mhorsepower) \u001b[38;5;66;03m#745.6998715822701\u001b[39;00m\n",
      "\u001b[0;31mNameError\u001b[0m: name 'constants' is not defined"
     ]
    }
   ],
   "source": [
    "print(constants.hp)         #745.6998715822701\n",
    "print(constants.horsepower) #745.6998715822701\n"
   ]
  },
  {
   "cell_type": "code",
   "execution_count": 23,
   "id": "f9fcfe0f-e695-4bee-9a5e-00d84029d2ba",
   "metadata": {},
   "outputs": [
    {
     "name": "stdout",
     "output_type": "stream",
     "text": [
      "1e-05\n",
      "1e-05\n",
      "4.4482216152605\n",
      "4.4482216152605\n",
      "9.80665\n",
      "9.80665\n"
     ]
    }
   ],
   "source": [
    "print(scipy.constants.dyn)             #1e-05\n",
    "print(scipy.constants.dyne)            #1e-05\n",
    "print(scipy.constants.lbf)             #4.4482216152605\n",
    "print(scipy.constants.pound_force)     #4.4482216152605\n",
    "print(scipy.constants.kgf)             #9.80665\n",
    "print(scipy.constants.kilogram_force)  #9.80665\n"
   ]
  },
  {
   "cell_type": "code",
   "execution_count": 24,
   "id": "86153ccb-7322-46d4-b8c0-5955c46ba9be",
   "metadata": {},
   "outputs": [
    {
     "name": "stdout",
     "output_type": "stream",
     "text": [
      "Area of Circle: 78.53981633974483\n",
      "Gravitational force: 3.3371499999999998e-09\n"
     ]
    }
   ],
   "source": [
    "# Area of a circle using\n",
    "# scipy.constants.pi\n",
    "def Area_of_Circle(r):\n",
    "    return scipy.constants.pi * r * r\n",
    " \n",
    "# Calculates the gravitational force\n",
    "# (Gravitational constant * (Mass body 1) * (Mass body 2)) / (distance^2)\n",
    "# scipy.constants.G\n",
    "def force_gravity(M, m, dist):\n",
    "    return (scipy.constants.G*M*m) / (dist**2)\n",
    " \n",
    " \n",
    "print(f'Area of Circle: {Area_of_Circle(5)}')\n",
    "print(f'Gravitational force: {force_gravity(10,5,1)}')\n"
   ]
  },
  {
   "cell_type": "code",
   "execution_count": 25,
   "id": "430447bc-8f1c-43c3-8634-9822b0ce1812",
   "metadata": {},
   "outputs": [
    {
     "data": {
      "text/plain": [
       "<1x9 sparse matrix of type '<class 'numpy.int64'>'\n",
       "\twith 3 stored elements in Compressed Sparse Row format>"
      ]
     },
     "execution_count": 25,
     "metadata": {},
     "output_type": "execute_result"
    }
   ],
   "source": [
    "# python3 -m pip instally numpy\n",
    "import numpy as np\n",
    "# create an array of mostly 0's\n",
    "arr = np.array([0, 0, 0, 0, 0, 1, 1, 0, 2])\n",
    "\n",
    "# Create a CSR matrix\n",
    "scipy.sparse.csr_matrix(arr)\n"
   ]
  },
  {
   "cell_type": "code",
   "execution_count": 26,
   "id": "51ea9904-e696-4b1a-8e88-fa985b34f34f",
   "metadata": {},
   "outputs": [
    {
     "ename": "SyntaxError",
     "evalue": "invalid syntax (213918519.py, line 1)",
     "output_type": "error",
     "traceback": [
      "\u001b[0;36m  Cell \u001b[0;32mIn [26], line 1\u001b[0;36m\u001b[0m\n\u001b[0;31m    (0, 5)\t1    # item is in row 0 position 5 and has a value of 1\u001b[0m\n\u001b[0m          \t^\u001b[0m\n\u001b[0;31mSyntaxError\u001b[0m\u001b[0;31m:\u001b[0m invalid syntax\n"
     ]
    }
   ],
   "source": [
    "(0, 5)\t1    # item is in row 0 position 5 and has a value of 1\n",
    "(0, 6)\t1    # item is in row 0 position 6 and has a value of 1\n",
    "(0, 8)\t2    # item is in row 0 position 8 and has a value of 2\n"
   ]
  },
  {
   "cell_type": "code",
   "execution_count": 27,
   "id": "b884b338-f003-4d32-b944-5f5e2a0a95f1",
   "metadata": {},
   "outputs": [
    {
     "data": {
      "text/plain": [
       "array([1, 1, 2])"
      ]
     },
     "execution_count": 27,
     "metadata": {},
     "output_type": "execute_result"
    }
   ],
   "source": [
    "arr = np.array([[0, 0, 0], [0, 0, 1], [1, 0, 2]])\n",
    "scipy.sparse.csr_matrix(arr).data  \n"
   ]
  },
  {
   "cell_type": "code",
   "execution_count": 29,
   "id": "67662a60-e9b4-499b-8ae9-9a619ac1c2b2",
   "metadata": {},
   "outputs": [
    {
     "data": {
      "text/plain": [
       "3"
      ]
     },
     "execution_count": 29,
     "metadata": {},
     "output_type": "execute_result"
    }
   ],
   "source": [
    "scipy.sparse.csr_matrix(arr).count_nonzero()\n"
   ]
  },
  {
   "cell_type": "code",
   "execution_count": 30,
   "id": "920ec679-754f-422b-8c42-5bdbbf36fcfc",
   "metadata": {},
   "outputs": [
    {
     "name": "stdout",
     "output_type": "stream",
     "text": [
      "  (1, 2)\t1\n",
      "  (2, 0)\t1\n",
      "  (2, 2)\t2\n"
     ]
    }
   ],
   "source": [
    "mat = scipy.sparse.csr_matrix(arr)\n",
    "# trash all the 0 values\n",
    "mat.eliminate_zeros()\n",
    "\n",
    "# display the remaining data\n",
    "print(mat)\n"
   ]
  },
  {
   "cell_type": "code",
   "execution_count": 31,
   "id": "f9532a3e-e9ab-4eba-8d3f-2df9665e1bde",
   "metadata": {},
   "outputs": [
    {
     "data": {
      "text/plain": [
       "<3x3 sparse matrix of type '<class 'numpy.int64'>'\n",
       "\twith 3 stored elements in Compressed Sparse Row format>"
      ]
     },
     "execution_count": 31,
     "metadata": {},
     "output_type": "execute_result"
    }
   ],
   "source": [
    "mat = scipy.sparse.csr_matrix(arr)\n",
    "mat.sum_duplicates()\n",
    "mat\n"
   ]
  },
  {
   "cell_type": "code",
   "execution_count": 32,
   "id": "059d2a0e-2f97-48bb-a375-a270ed3373f2",
   "metadata": {},
   "outputs": [
    {
     "data": {
      "text/plain": [
       "<3x3 sparse matrix of type '<class 'numpy.int64'>'\n",
       "\twith 3 stored elements in Compressed Sparse Column format>"
      ]
     },
     "execution_count": 32,
     "metadata": {},
     "output_type": "execute_result"
    }
   ],
   "source": [
    "newarr = scipy.sparse.csr_matrix(arr).tocsc()\n",
    "\n",
    "newarr\n"
   ]
  },
  {
   "cell_type": "code",
   "execution_count": null,
   "id": "e643ae3f-b3b5-4383-988c-0907f810c5c9",
   "metadata": {},
   "outputs": [],
   "source": []
  }
 ],
 "metadata": {
  "kernelspec": {
   "display_name": "Python 3 (ipykernel)",
   "language": "python",
   "name": "python3"
  },
  "language_info": {
   "codemirror_mode": {
    "name": "ipython",
    "version": 3
   },
   "file_extension": ".py",
   "mimetype": "text/x-python",
   "name": "python",
   "nbconvert_exporter": "python",
   "pygments_lexer": "ipython3",
   "version": "3.10.6"
  }
 },
 "nbformat": 4,
 "nbformat_minor": 5
}
