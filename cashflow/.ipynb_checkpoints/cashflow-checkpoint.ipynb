{
 "cells": [
  {
   "cell_type": "code",
   "execution_count": null,
   "id": "c92857de-86ad-4858-8492-e9b8b96790b4",
   "metadata": {},
   "outputs": [],
   "source": [
    "# python3 -m pip install pandas\n",
    "import pandas as pd\n",
    "\n",
    "# open the csv file and describe the ; as the separator\n",
    "exp_inc = pd.read_csv(\"expenses_and_income.csv\", sep=\";\")\n",
    "exp_inc\n"
   ]
  }
 ],
 "metadata": {
  "kernelspec": {
   "display_name": "Python 3 (ipykernel)",
   "language": "python",
   "name": "python3"
  },
  "language_info": {
   "codemirror_mode": {
    "name": "ipython",
    "version": 3
   },
   "file_extension": ".py",
   "mimetype": "text/x-python",
   "name": "python",
   "nbconvert_exporter": "python",
   "pygments_lexer": "ipython3",
   "version": "3.10.6"
  }
 },
 "nbformat": 4,
 "nbformat_minor": 5
}
